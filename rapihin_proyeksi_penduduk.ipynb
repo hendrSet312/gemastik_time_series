{
 "cells": [
  {
   "cell_type": "code",
   "execution_count": 36,
   "id": "0768b575",
   "metadata": {},
   "outputs": [
    {
     "data": {
      "text/plain": [
       "array(['Aceh', 'Bali', 'Banten', 'Bengkulu', 'DIYogyakarta',\n",
       "       'DKI Jakarta', 'Gorontalo', 'Jambi', 'Jawa Barat', 'Jawa Tengah',\n",
       "       'Jawa Timur', 'Kalimantan Barat', 'Kalimantan Selatan',\n",
       "       'Kalimantan Tengah', 'Kalimantan Timur', 'Kalimantan Utara',\n",
       "       'Kep. Bangka Belitung', 'Kep. Riau', 'Lampung', 'Maluku',\n",
       "       'Maluku Utara', 'NTB', 'NTT', 'Papua', 'Papua Barat', 'Riau',\n",
       "       'Sulawesi Barat', 'Sulawesi Selatan', 'Sulawesi Tengah',\n",
       "       'Sulawesi Tenggara', 'Sulawesi Utara', 'Sumatera Barat',\n",
       "       'Sumatera Selatan', 'Sumatera Utara'], dtype=object)"
      ]
     },
     "execution_count": 36,
     "metadata": {},
     "output_type": "execute_result"
    }
   ],
   "source": [
    "import pandas as pd\n",
    "import numpy as np\n",
    "\n",
    "dat = pd.read_excel(\"sourceData\\\\proyeksi_penduduk.xlsx\").drop(columns = ['Laki',\"Perempuan\"])\n",
    "dat = dat.pivot(index = \"Provinsi\",columns = \"tahun\",values = \"total_penduduk\").reset_index()\n",
    "dat.Provinsi.unique()"
   ]
  },
  {
   "cell_type": "code",
   "execution_count": 37,
   "id": "9938f1b0",
   "metadata": {},
   "outputs": [],
   "source": [
    "province_change = {\"DIYogyakarta\":\"DI YOGYAKARTA\",\"Kep. Bangka Belitung\":\"KEPULAUAN BANGKA BELITUNG\",\n",
    "                  \"Kep. Riau\":\"KEPULAUAN RIAU\",\"NTT\":\"NUSA TENGGARA TIMUR\",\"NTB\":\"NUSA TENGGARA BARAT\"}\n",
    "dat[\"Provinsi\"] = dat[\"Provinsi\"].apply(lambda x : province_change[x] if x in province_change else x)"
   ]
  },
  {
   "cell_type": "code",
   "execution_count": 38,
   "id": "5cf50410",
   "metadata": {},
   "outputs": [],
   "source": [
    "dat.to_excel(\"new_total_penduduk.xlsx\")"
   ]
  },
  {
   "cell_type": "code",
   "execution_count": null,
   "id": "b3376ea9",
   "metadata": {},
   "outputs": [],
   "source": []
  }
 ],
 "metadata": {
  "kernelspec": {
   "display_name": "Python 3 (ipykernel)",
   "language": "python",
   "name": "python3"
  },
  "language_info": {
   "codemirror_mode": {
    "name": "ipython",
    "version": 3
   },
   "file_extension": ".py",
   "mimetype": "text/x-python",
   "name": "python",
   "nbconvert_exporter": "python",
   "pygments_lexer": "ipython3",
   "version": "3.9.16"
  }
 },
 "nbformat": 4,
 "nbformat_minor": 5
}
